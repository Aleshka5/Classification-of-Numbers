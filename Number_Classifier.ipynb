{
 "cells": [
  {
   "cell_type": "markdown",
   "metadata": {
    "id": "swEDUwU6-S8x"
   },
   "source": [
    "## Задание"
   ]
  },
  {
   "cell_type": "markdown",
   "metadata": {
    "id": "fMJUXp5d-flR"
   },
   "source": [
    "Распознайте рукописную цифру, написанную на листе от руки.\n",
    "Последовательность шагов следующая:\n",
    "\n",
    "*   На бумаге рисуем произвольную цифру (желательно нарисовать цифру размером не \n",
    "более 5 * 5 мм и без наклона. В занятии нейронка обучалась на цифрах американских студентов. Эти цифры были написаны на тетрадных листах в клетку и имели схожий размер).\n",
    "*   Фотографируем. Загружаем фото в Collaboratory.\n",
    "*   С помощью функции image.load_img(path, target_size=(28, 28), color_mode = ‘grayscale’) загружаем картинку в переменную.\n",
    "*   С помощью функции image.img_to_array(img) преобразуем изображение в numpy-массив.\n",
    "*   Выполняем инверсию цветов, нормирование и решейп массива.\n",
    "*   Выполняем распознавание собственной рукописной цифры.\n",
    "\n",
    "Примечание: точность распознавания рукописных цифр может быть достаточно низкой, т.к. рукописные цифры после преобразований хоть и похожи на содержащиеся в базе, но могут отличаться по конфигурации, толщине линий и т.д.\n"
   ]
  },
  {
   "cell_type": "code",
   "execution_count": 44,
   "metadata": {
    "id": "lDCR1UFdqPUb"
   },
   "outputs": [],
   "source": [
    "# Ваше решение\n",
    "import tensorflow as tf\n",
    "from tensorflow.keras.layers import *\n",
    "from tensorflow.keras.optimizers import Adam\n",
    "from tensorflow.keras.preprocessing import image\n",
    "from tensorflow.keras.utils import plot_model\n",
    "from keras.models import Sequential\n",
    "import matplotlib.pyplot as plt\n",
    "import numpy as np\n",
    "import os\n",
    "from PIL import Image \n",
    "from tensorflow.keras import utils"
   ]
  },
  {
   "cell_type": "markdown",
   "metadata": {
    "id": "gWwn3st5ItkL"
   },
   "source": [
    "Распаковываю свой датасет. (Задолго до обучения в УИИ сам ради небольшого челенджа собирал датасет из собственных рукописных цифр, написанных на бумаге в клеточках. Отсканированных с разрешением 27/27 пикселей)"
   ]
  },
  {
   "cell_type": "code",
   "execution_count": 3,
   "metadata": {
    "colab": {
     "base_uri": "https://localhost:8080/",
     "height": 192
    },
    "id": "VvtOXpWFieDb",
    "outputId": "f88c249f-070d-40c1-ed57-1e4adb461086"
   },
   "outputs": [
    {
     "name": "stdout",
     "output_type": "stream",
     "text": [
      "patool: Extracting start_model.rar ...\n",
      "patool: running \"C:\\Program Files\\WinRAR\\rar.EXE\" x -- C:\\Users\\Aleshka5\\my_projects\\start_model.rar\n",
      "patool:     with cwd=content/\n",
      "patool: ... start_model.rar extracted to `content/'.\n"
     ]
    },
    {
     "data": {
      "text/plain": [
       "'content/'"
      ]
     },
     "execution_count": 3,
     "metadata": {},
     "output_type": "execute_result"
    }
   ],
   "source": [
    "import patoolib\n",
    "patoolib.extract_archive(\"start_model.rar\", outdir=\"content/\")"
   ]
  },
  {
   "cell_type": "markdown",
   "metadata": {
    "id": "3V0tDQNALshF"
   },
   "source": [
    "Задаю размеры импортируемых фото по заданию"
   ]
  },
  {
   "cell_type": "code",
   "execution_count": 4,
   "metadata": {
    "id": "qLHtDnXsieFj"
   },
   "outputs": [],
   "source": [
    "img_height = 28   #Высота изобажения\n",
    "img_width = 28   #Ширина изображения"
   ]
  },
  {
   "cell_type": "markdown",
   "metadata": {
    "id": "HdKVJfNDJGSu"
   },
   "source": [
    "Записываю датасет в переменные"
   ]
  },
  {
   "cell_type": "code",
   "execution_count": 6,
   "metadata": {
    "colab": {
     "base_uri": "https://localhost:8080/"
    },
    "id": "ysNcGRYgieH3",
    "outputId": "b2fcd175-e864-4bce-f7e2-f7d8c2e17e4c"
   },
   "outputs": [
    {
     "name": "stdout",
     "output_type": "stream",
     "text": [
      "(2726, 28, 28)\n"
     ]
    }
   ],
   "source": [
    "base_dir = 'content/data_numbers'\n",
    "X = []\n",
    "Y = []\n",
    "img_height = 28\n",
    "img_weight = 28\n",
    "for fold in os.listdir(base_dir):\n",
    "    for img in os.listdir(base_dir + '/' + fold):\n",
    "        X.append(image.img_to_array(image.load_img(base_dir+'/'+fold+'/'+img, \n",
    "                                                         target_size=(img_height,img_width),\n",
    "                                                         color_mode='grayscale')))\n",
    "        Y.append(int(fold[0]))\n",
    "X = np.array(X)\n",
    "Y = np.array(Y)\n",
    "X = X.reshape(X.shape[0],28,28)\n",
    "print(X.shape)"
   ]
  },
  {
   "cell_type": "markdown",
   "metadata": {
    "id": "tRCYmVZqJKlS"
   },
   "source": [
    "Инвертирую цвет изображений и увеличиваю их яркость"
   ]
  },
  {
   "cell_type": "code",
   "execution_count": 7,
   "metadata": {
    "id": "6ekPbwRs1mdG"
   },
   "outputs": [],
   "source": [
    "for i in range(X.shape[0]):\n",
    "  for j in range(X.shape[1]):\n",
    "    for z in range(X.shape[2]):\n",
    "      X[i][j][z] = 255 - X[i][j][z]        \n",
    "      if (X[i][j][z] < 20):\n",
    "        X[i][j][z] = 0\n",
    "      X[i][j][z] = X[i][j][z]*1.25"
   ]
  },
  {
   "cell_type": "markdown",
   "metadata": {
    "id": "boP3OuHAJUyp"
   },
   "source": [
    "Вывожу пример каждой цифры"
   ]
  },
  {
   "cell_type": "code",
   "execution_count": 8,
   "metadata": {
    "colab": {
     "base_uri": "https://localhost:8080/",
     "height": 1000
    },
    "collapsed": true,
    "id": "3PHCvOqq0H3Z",
    "jupyter": {
     "outputs_hidden": true
    },
    "outputId": "5fcf59e6-7877-41eb-ac1c-6bb597babe86",
    "tags": []
   },
   "outputs": [
    {
     "data": {
      "image/png": "[encoded data removed]",
      "text/plain": [
       "<Figure size 432x288 with 1 Axes>"
      ]
     },
     "metadata": {
      "needs_background": "light"
     },
     "output_type": "display_data"
    },
    {
     "data": {
      "image/png": "[encoded data removed]",
      "text/plain": [
       "<Figure size 432x288 with 1 Axes>"
      ]
     },
     "metadata": {
      "needs_background": "light"
     },
     "output_type": "display_data"
    },
    {
     "data": {
      "image/png": "[encoded data removed]",
      "text/plain": [
       "<Figure size 432x288 with 1 Axes>"
      ]
     },
     "metadata": {
      "needs_background": "light"
     },
     "output_type": "display_data"
    },
    {
     "data": {
      "image/png": "[encoded data removed]",
      "text/plain": [
       "<Figure size 432x288 with 1 Axes>"
      ]
     },
     "metadata": {
      "needs_background": "light"
     },
     "output_type": "display_data"
    },
    {
     "data": {
      "image/png": "[encoded data removed]",
      "text/plain": [
       "<Figure size 432x288 with 1 Axes>"
      ]
     },
     "metadata": {
      "needs_background": "light"
     },
     "output_type": "display_data"
    },
    {
     "data": {
      "image/png": "[encoded data removed]",
      "text/plain": [
       "<Figure size 432x288 with 1 Axes>"
      ]
     },
     "metadata": {
      "needs_background": "light"
     },
     "output_type": "display_data"
    },
    {
     "data": {
      "image/png": "[encoded data removed]",
      "text/plain": [
       "<Figure size 432x288 with 1 Axes>"
      ]
     },
     "metadata": {
      "needs_background": "light"
     },
     "output_type": "display_data"
    },
    {
     "data": {
      "image/png": "[encoded data removed]",
      "text/plain": [
       "<Figure size 432x288 with 1 Axes>"
      ]
     },
     "metadata": {
      "needs_background": "light"
     },
     "output_type": "display_data"
    },
    {
     "data": {
      "image/png": "[encoded data removed]",
      "text/plain": [
       "<Figure size 432x288 with 1 Axes>"
      ]
     },
     "metadata": {
      "needs_background": "light"
     },
     "output_type": "display_data"
    },
    {
     "data": {
      "image/png": "[encoded data removed]",
      "text/plain": [
       "<Figure size 432x288 with 1 Axes>"
      ]
     },
     "metadata": {
      "needs_background": "light"
     },
     "output_type": "display_data"
    }
   ],
   "source": [
    "for i in range(10):\n",
    "  for j in range(Y.shape[0]):\n",
    "    if (Y[j] == i):\n",
    "      plt.imshow(X[j].reshape(28,28),cmap='gray')\n",
    "      plt.show()\n",
    "      break"
   ]
  },
  {
   "cell_type": "markdown",
   "metadata": {
    "id": "Dt5ObEAzJdNd"
   },
   "source": [
    "По примеру из второго урока делаю разбивку на Тренеровочный сет и Тестовый"
   ]
  },
  {
   "cell_type": "code",
   "execution_count": 30,
   "metadata": {
    "id": "k0aoBnPN6htH"
   },
   "outputs": [],
   "source": [
    "from sklearn.model_selection import train_test_split\n",
    "x_train,x_test, y_train, y_test = train_test_split(X,Y,\n",
    "                                                   test_size=0.2,\n",
    "                                                   random_state=42,\n",
    "                                                   shuffle = True)\n",
    "x_train = (x_train.reshape(x_train.shape[0],28,28,1) )/255 \n",
    "x_test = (x_test.reshape(x_test.shape[0],28,28,1) )/255\n",
    "y_train = utils.to_categorical(y_train)\n",
    "y_test = utils.to_categorical(y_test)"
   ]
  },
  {
   "cell_type": "code",
   "execution_count": 31,
   "metadata": {
    "colab": {
     "base_uri": "https://localhost:8080/"
    },
    "id": "8tNkOjumDRuG",
    "outputId": "ccb7548b-a47b-4141-dc57-ab7ed6e47575"
   },
   "outputs": [
    {
     "name": "stdout",
     "output_type": "stream",
     "text": [
      "(2180, 28, 28, 1)\n",
      "(546, 28, 28, 1)\n",
      "(2180, 10)\n",
      "(546, 10)\n"
     ]
    }
   ],
   "source": [
    "print(x_train.shape)\n",
    "print(x_test.shape)\n",
    "print(y_train.shape)\n",
    "print(y_test.shape)\n",
    "#print(x_train[0][:50])"
   ]
  },
  {
   "cell_type": "markdown",
   "metadata": {
    "id": "xEht8lRZJnAS"
   },
   "source": [
    "Обучение сети"
   ]
  },
  {
   "cell_type": "code",
   "execution_count": 41,
   "metadata": {
    "colab": {
     "base_uri": "https://localhost:8080/",
     "height": 1000
    },
    "id": "XjrnuNK5nnQV",
    "outputId": "d66f0e08-4274-4d6f-f40c-de5d83344397"
   },
   "outputs": [
    {
     "name": "stdout",
     "output_type": "stream",
     "text": [
      "Model: \"sequential_22\"\n",
      "_________________________________________________________________\n",
      " Layer (type)                Output Shape              Param #   \n",
      "=================================================================\n",
      " conv2d_17 (Conv2D)          (None, 28, 28, 32)        320       \n",
      "                                                                 \n",
      " max_pooling2d_9 (MaxPooling  (None, 14, 14, 32)       0         \n",
      " 2D)                                                             \n",
      "                                                                 \n",
      " conv2d_18 (Conv2D)          (None, 14, 14, 32)        9248      \n",
      "                                                                 \n",
      " max_pooling2d_10 (MaxPoolin  (None, 7, 7, 32)         0         \n",
      " g2D)                                                            \n",
      "                                                                 \n",
      " flatten_8 (Flatten)         (None, 1568)              0         \n",
      "                                                                 \n",
      " dense_53 (Dense)            (None, 16)                25104     \n",
      "                                                                 \n",
      " dense_54 (Dense)            (None, 10)                170       \n",
      "                                                                 \n",
      "=================================================================\n",
      "Total params: 34,842\n",
      "Trainable params: 34,842\n",
      "Non-trainable params: 0\n",
      "_________________________________________________________________\n",
      "Epoch 1/60\n",
      "69/69 [==============================] - 1s 7ms/step - loss: 2.2640 - accuracy: 0.1294 - val_loss: 2.2181 - val_accuracy: 0.1685\n",
      "Epoch 2/60\n",
      "69/69 [==============================] - 0s 4ms/step - loss: 2.1254 - accuracy: 0.2977 - val_loss: 2.0300 - val_accuracy: 0.3407\n",
      "Epoch 3/60\n",
      "69/69 [==============================] - 0s 4ms/step - loss: 1.8749 - accuracy: 0.4477 - val_loss: 1.7241 - val_accuracy: 0.4817\n",
      "Epoch 4/60\n",
      "69/69 [==============================] - 0s 4ms/step - loss: 1.5486 - accuracy: 0.5647 - val_loss: 1.3780 - val_accuracy: 0.6062\n",
      "Epoch 5/60\n",
      "69/69 [==============================] - 0s 4ms/step - loss: 1.2345 - accuracy: 0.6757 - val_loss: 1.0875 - val_accuracy: 0.7234\n",
      "Epoch 6/60\n",
      "69/69 [==============================] - 0s 5ms/step - loss: 0.9851 - accuracy: 0.7372 - val_loss: 0.8983 - val_accuracy: 0.7656\n",
      "Epoch 7/60\n",
      "69/69 [==============================] - 0s 5ms/step - loss: 0.8335 - accuracy: 0.7702 - val_loss: 0.7687 - val_accuracy: 0.7857\n",
      "Epoch 8/60\n",
      "69/69 [==============================] - 0s 5ms/step - loss: 0.7384 - accuracy: 0.7931 - val_loss: 0.7063 - val_accuracy: 0.7894\n",
      "Epoch 9/60\n",
      "69/69 [==============================] - 0s 5ms/step - loss: 0.6664 - accuracy: 0.8119 - val_loss: 0.6558 - val_accuracy: 0.7930\n",
      "Epoch 10/60\n",
      "69/69 [==============================] - 0s 5ms/step - loss: 0.6212 - accuracy: 0.8179 - val_loss: 0.6160 - val_accuracy: 0.8150\n",
      "Epoch 11/60\n",
      "69/69 [==============================] - 0s 5ms/step - loss: 0.5732 - accuracy: 0.8422 - val_loss: 0.5679 - val_accuracy: 0.8132\n",
      "Epoch 12/60\n",
      "69/69 [==============================] - 0s 5ms/step - loss: 0.5319 - accuracy: 0.8505 - val_loss: 0.5318 - val_accuracy: 0.8297\n",
      "Epoch 13/60\n",
      "69/69 [==============================] - 0s 5ms/step - loss: 0.5010 - accuracy: 0.8560 - val_loss: 0.5293 - val_accuracy: 0.8370\n",
      "Epoch 14/60\n",
      "69/69 [==============================] - 0s 5ms/step - loss: 0.4721 - accuracy: 0.8638 - val_loss: 0.4886 - val_accuracy: 0.8443\n",
      "Epoch 15/60\n",
      "69/69 [==============================] - 0s 5ms/step - loss: 0.4481 - accuracy: 0.8716 - val_loss: 0.4617 - val_accuracy: 0.8498\n",
      "Epoch 16/60\n",
      "69/69 [==============================] - 0s 5ms/step - loss: 0.4200 - accuracy: 0.8775 - val_loss: 0.4365 - val_accuracy: 0.8626\n",
      "Epoch 17/60\n",
      "69/69 [==============================] - 0s 5ms/step - loss: 0.3942 - accuracy: 0.8876 - val_loss: 0.4163 - val_accuracy: 0.8718\n",
      "Epoch 18/60\n",
      "69/69 [==============================] - 0s 5ms/step - loss: 0.3721 - accuracy: 0.8917 - val_loss: 0.4117 - val_accuracy: 0.8608\n",
      "Epoch 19/60\n",
      "69/69 [==============================] - 0s 5ms/step - loss: 0.3558 - accuracy: 0.8991 - val_loss: 0.3793 - val_accuracy: 0.8828\n",
      "Epoch 20/60\n",
      "69/69 [==============================] - 0s 5ms/step - loss: 0.3361 - accuracy: 0.9055 - val_loss: 0.3733 - val_accuracy: 0.8901\n",
      "Epoch 21/60\n",
      "69/69 [==============================] - 0s 5ms/step - loss: 0.3162 - accuracy: 0.9069 - val_loss: 0.3797 - val_accuracy: 0.8810\n",
      "Epoch 22/60\n",
      "69/69 [==============================] - 0s 5ms/step - loss: 0.3082 - accuracy: 0.9110 - val_loss: 0.3401 - val_accuracy: 0.9066\n",
      "Epoch 23/60\n",
      "69/69 [==============================] - 0s 5ms/step - loss: 0.2856 - accuracy: 0.9165 - val_loss: 0.3322 - val_accuracy: 0.8956\n",
      "Epoch 24/60\n",
      "69/69 [==============================] - 0s 5ms/step - loss: 0.2730 - accuracy: 0.9225 - val_loss: 0.3248 - val_accuracy: 0.9011\n",
      "Epoch 25/60\n",
      "69/69 [==============================] - 0s 5ms/step - loss: 0.2612 - accuracy: 0.9239 - val_loss: 0.3001 - val_accuracy: 0.9121\n",
      "Epoch 26/60\n",
      "69/69 [==============================] - 0s 5ms/step - loss: 0.2493 - accuracy: 0.9349 - val_loss: 0.2925 - val_accuracy: 0.9084\n",
      "Epoch 27/60\n",
      "69/69 [==============================] - 0s 5ms/step - loss: 0.2382 - accuracy: 0.9326 - val_loss: 0.2835 - val_accuracy: 0.9103\n",
      "Epoch 28/60\n",
      "69/69 [==============================] - 0s 5ms/step - loss: 0.2243 - accuracy: 0.9372 - val_loss: 0.2956 - val_accuracy: 0.9139\n",
      "Epoch 29/60\n",
      "69/69 [==============================] - 0s 5ms/step - loss: 0.2135 - accuracy: 0.9358 - val_loss: 0.2729 - val_accuracy: 0.9176\n",
      "Epoch 30/60\n",
      "69/69 [==============================] - 0s 5ms/step - loss: 0.2061 - accuracy: 0.9394 - val_loss: 0.2701 - val_accuracy: 0.9139\n",
      "Epoch 31/60\n",
      "69/69 [==============================] - 0s 5ms/step - loss: 0.1953 - accuracy: 0.9454 - val_loss: 0.2628 - val_accuracy: 0.9212\n",
      "Epoch 32/60\n",
      "69/69 [==============================] - 0s 5ms/step - loss: 0.1867 - accuracy: 0.9509 - val_loss: 0.2529 - val_accuracy: 0.9231\n",
      "Epoch 33/60\n",
      "69/69 [==============================] - 0s 5ms/step - loss: 0.1802 - accuracy: 0.9495 - val_loss: 0.2463 - val_accuracy: 0.9231\n",
      "Epoch 34/60\n",
      "69/69 [==============================] - 0s 6ms/step - loss: 0.1699 - accuracy: 0.9505 - val_loss: 0.2360 - val_accuracy: 0.9286\n",
      "Epoch 35/60\n",
      "69/69 [==============================] - 0s 5ms/step - loss: 0.1612 - accuracy: 0.9509 - val_loss: 0.2475 - val_accuracy: 0.9304\n",
      "Epoch 36/60\n",
      "69/69 [==============================] - 0s 5ms/step - loss: 0.1611 - accuracy: 0.9550 - val_loss: 0.2315 - val_accuracy: 0.9304\n",
      "Epoch 37/60\n",
      "69/69 [==============================] - 0s 5ms/step - loss: 0.1497 - accuracy: 0.9587 - val_loss: 0.2274 - val_accuracy: 0.9231\n",
      "Epoch 38/60\n",
      "69/69 [==============================] - 0s 5ms/step - loss: 0.1432 - accuracy: 0.9573 - val_loss: 0.2255 - val_accuracy: 0.9322\n",
      "Epoch 39/60\n",
      "69/69 [==============================] - 0s 5ms/step - loss: 0.1367 - accuracy: 0.9606 - val_loss: 0.2238 - val_accuracy: 0.9341\n",
      "Epoch 40/60\n",
      "69/69 [==============================] - 0s 5ms/step - loss: 0.1328 - accuracy: 0.9633 - val_loss: 0.2178 - val_accuracy: 0.9286\n",
      "Epoch 41/60\n",
      "69/69 [==============================] - 0s 5ms/step - loss: 0.1283 - accuracy: 0.9619 - val_loss: 0.2144 - val_accuracy: 0.9341\n",
      "Epoch 42/60\n",
      "69/69 [==============================] - 0s 5ms/step - loss: 0.1291 - accuracy: 0.9688 - val_loss: 0.2171 - val_accuracy: 0.9414\n",
      "Epoch 43/60\n",
      "69/69 [==============================] - 0s 5ms/step - loss: 0.1177 - accuracy: 0.9679 - val_loss: 0.2076 - val_accuracy: 0.9359\n",
      "Epoch 44/60\n",
      "69/69 [==============================] - 0s 5ms/step - loss: 0.1175 - accuracy: 0.9656 - val_loss: 0.2109 - val_accuracy: 0.9377\n",
      "Epoch 45/60\n",
      "69/69 [==============================] - 0s 5ms/step - loss: 0.1102 - accuracy: 0.9716 - val_loss: 0.1955 - val_accuracy: 0.9359\n",
      "Epoch 46/60\n",
      "69/69 [==============================] - 0s 5ms/step - loss: 0.1039 - accuracy: 0.9720 - val_loss: 0.1957 - val_accuracy: 0.9359\n",
      "Epoch 47/60\n",
      "69/69 [==============================] - 0s 5ms/step - loss: 0.0982 - accuracy: 0.9761 - val_loss: 0.2042 - val_accuracy: 0.9359\n",
      "Epoch 48/60\n",
      "69/69 [==============================] - 0s 5ms/step - loss: 0.0950 - accuracy: 0.9757 - val_loss: 0.1953 - val_accuracy: 0.9396\n",
      "Epoch 49/60\n",
      "69/69 [==============================] - 0s 5ms/step - loss: 0.0942 - accuracy: 0.9757 - val_loss: 0.1906 - val_accuracy: 0.9377\n",
      "Epoch 50/60\n",
      "69/69 [==============================] - 0s 6ms/step - loss: 0.0892 - accuracy: 0.9775 - val_loss: 0.1990 - val_accuracy: 0.9322\n",
      "Epoch 51/60\n",
      "69/69 [==============================] - 0s 5ms/step - loss: 0.0881 - accuracy: 0.9766 - val_loss: 0.1917 - val_accuracy: 0.9377\n",
      "Epoch 52/60\n",
      "69/69 [==============================] - 0s 5ms/step - loss: 0.0866 - accuracy: 0.9780 - val_loss: 0.1907 - val_accuracy: 0.9414\n",
      "Epoch 53/60\n",
      "69/69 [==============================] - 0s 5ms/step - loss: 0.0795 - accuracy: 0.9817 - val_loss: 0.2009 - val_accuracy: 0.9396\n",
      "Epoch 54/60\n",
      "69/69 [==============================] - 0s 5ms/step - loss: 0.0766 - accuracy: 0.9817 - val_loss: 0.1819 - val_accuracy: 0.9432\n",
      "Epoch 55/60\n",
      "69/69 [==============================] - 0s 5ms/step - loss: 0.0752 - accuracy: 0.9858 - val_loss: 0.1863 - val_accuracy: 0.9377\n",
      "Epoch 56/60\n",
      "69/69 [==============================] - 0s 5ms/step - loss: 0.0730 - accuracy: 0.9867 - val_loss: 0.1812 - val_accuracy: 0.9396\n",
      "Epoch 57/60\n",
      "69/69 [==============================] - 0s 5ms/step - loss: 0.0705 - accuracy: 0.9839 - val_loss: 0.1881 - val_accuracy: 0.9396\n",
      "Epoch 58/60\n",
      "69/69 [==============================] - 0s 5ms/step - loss: 0.0680 - accuracy: 0.9867 - val_loss: 0.1919 - val_accuracy: 0.9359\n",
      "Epoch 59/60\n",
      "69/69 [==============================] - 0s 5ms/step - loss: 0.0663 - accuracy: 0.9862 - val_loss: 0.1742 - val_accuracy: 0.9432\n",
      "Epoch 60/60\n",
      "69/69 [==============================] - 0s 5ms/step - loss: 0.0623 - accuracy: 0.9853 - val_loss: 0.1911 - val_accuracy: 0.9359\n"
     ]
    },
    {
     "data": {
      "image/png": "[encoded data removed]",
      "text/plain": [
       "<Figure size 432x288 with 1 Axes>"
      ]
     },
     "metadata": {
      "needs_background": "light"
     },
     "output_type": "display_data"
    },
    {
     "data": {
      "image/png": "[encoded data removed]",
      "text/plain": [
       "<Figure size 432x288 with 1 Axes>"
      ]
     },
     "metadata": {
      "needs_background": "light"
     },
     "output_type": "display_data"
    }
   ],
   "source": [
    "num_classes = 10\n",
    "model= Sequential()\n",
    "model.add (Conv2D(32,3,padding = 'same',input_shape = (x_train.shape[1:]),activation='relu'))\n",
    "model.add (MaxPooling2D(2))\n",
    "model.add (Conv2D(32,3,padding = 'same',input_shape = (x_train.shape[1:]),activation='relu'))\n",
    "model.add (MaxPooling2D(2))\n",
    "model.add (Flatten())\n",
    "model.add (Dense(16,activation='relu'))\n",
    "model.add (Dense(num_classes,activation='softmax'))\n",
    "model.compile(loss='categorical_crossentropy',optimizer=Adam(learning_rate=0.0001),metrics=['accuracy'])\n",
    "model.summary()\n",
    "history = model.fit(x_train,y_train,\n",
    "                    validation_data=(x_test,y_test),\n",
    "                    batch_size = 32,\n",
    "                    epochs = 60,\n",
    "                    verbose = 1)\n",
    "acc  = history.history['accuracy']\n",
    "val_acc  = history.history['val_accuracy']\n",
    "loss = history.history['loss']\n",
    "val_loss = history.history['val_loss']\n",
    "\n",
    "plt.plot (acc,label='acc')\n",
    "plt.plot (val_acc,label='val_acc')\n",
    "plt.legend()\n",
    "plt.title(\"History accuracy\")\n",
    "plt.show()\n",
    "\n",
    "plt.plot (loss,label='loss')\n",
    "plt.plot (val_loss,label='val_loss')\n",
    "plt.legend()\n",
    "plt.title(\"History Loss\")\n",
    "plt.show()"
   ]
  },
  {
   "cell_type": "markdown",
   "metadata": {
    "id": "7phlMZw7JqUo"
   },
   "source": [
    "# Вывод:\n",
    "\n",
    "По итогу мне удалось добиться точности в 95%, избежав переобучения."
   ]
  }
 ],
 "metadata": {
  "accelerator": "GPU",
  "colab": {
   "collapsed_sections": [],
   "name": "Копия блокнота \"Базовый блок | Введение в нейронные сети. Линейный слой (Dense) | ДЗ Ultra Pro | УИИ\"",
   "provenance": []
  },
  "kernelspec": {
   "display_name": "Python 3 (ipykernel)",
   "language": "python",
   "name": "python3"
  },
  "language_info": {
   "codemirror_mode": {
    "name": "ipython",
    "version": 3
   },
   "file_extension": ".py",
   "mimetype": "text/x-python",
   "name": "python",
   "nbconvert_exporter": "python",
   "pygments_lexer": "ipython3",
   "version": "3.8.0"
  }
 },
 "nbformat": 4,
 "nbformat_minor": 4
}
